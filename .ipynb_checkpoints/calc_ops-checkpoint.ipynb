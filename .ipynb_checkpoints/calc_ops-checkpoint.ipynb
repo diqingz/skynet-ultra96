{
 "cells": [
  {
   "cell_type": "code",
   "execution_count": 2,
   "id": "dimensional-little",
   "metadata": {},
   "outputs": [],
   "source": [
    "import numpy as np"
   ]
  },
  {
   "cell_type": "code",
   "execution_count": 9,
   "id": "humanitarian-ghana",
   "metadata": {},
   "outputs": [],
   "source": [
    "def calc_ops(layer_config, pool_layers, img_w=320, img_h=160):\n",
    "    ops = 0\n",
    "    for layer_id in range(len(layer_config)):\n",
    "        ch_in, ch_out = layer_config[layer_id]\n",
    "        layer_ops = img_w*img_h*ch_in*ch_out*3*3\n",
    "        ops += layer_ops\n",
    "        print('Layer %d, width=%d, height=%d, ops=%d, total_ops=%d' %(layer_id, img_w, img_h, layer_ops, ops))\n",
    "        if pool_layers[layer_id] == 1:\n",
    "            img_w, img_h = img_w//2, img_h//2\n",
    "    return ops"
   ]
  },
  {
   "cell_type": "code",
   "execution_count": 2,
   "id": "modern-right",
   "metadata": {},
   "outputs": [
    {
     "name": "stdout",
     "output_type": "stream",
     "text": [
      "True\n"
     ]
    }
   ],
   "source": [
    "layer_config_v0 = [[3, 16], [16, 32], [32, 64], [64, 64], [64, 64], [64, 64], [64, 64], [64, 64], [64, 36]]\n",
    "pool_layers_v0 = [1, 1, 1, 1, 0, 0, 0, 0, 0]\n",
    "\n",
    "print(len(layer_config_v0) == len(pool_layers_v0))"
   ]
  },
  {
   "cell_type": "code",
   "execution_count": 3,
   "id": "accompanied-community",
   "metadata": {},
   "outputs": [
    {
     "name": "stdout",
     "output_type": "stream",
     "text": [
      "True\n"
     ]
    }
   ],
   "source": [
    "layer_config_dv1 = [[3, 16], [16, 16], [16, 32], [32, 32], [32, 64], [64, 64], [64, 64], [64, 64], [64, 64], [64, 64], [64, 36]]\n",
    "pool_layers_dv1 = [1, 0, 1, 0, 1, 1, 0, 0, 0, 0, 0]\n",
    "\n",
    "print(len(layer_config_dv1) == len(pool_layers_dv1))"
   ]
  },
  {
   "cell_type": "code",
   "execution_count": 25,
   "id": "frequent-connecticut",
   "metadata": {},
   "outputs": [
    {
     "name": "stdout",
     "output_type": "stream",
     "text": [
      "True\n"
     ]
    }
   ],
   "source": [
    "layer_config_wv1 = [[3, 16], [16, 32], [32, 64], [64, 64], [64, 128], [128, 128], [128, 128], [128, 128], [128, 36]]\n",
    "pool_layers_wv1 = [1, 1, 1, 1, 0, 0, 0, 0, 0]\n",
    "\n",
    "print(len(layer_config_dv1) == len(pool_layers_dv1))"
   ]
  },
  {
   "cell_type": "code",
   "execution_count": 29,
   "id": "intellectual-nursery",
   "metadata": {},
   "outputs": [
    {
     "name": "stdout",
     "output_type": "stream",
     "text": [
      "True\n",
      "Layer 0, width=320, height=160, ops=44236800\n",
      "Layer 1, width=160, height=80, ops=235929600\n",
      "Layer 2, width=80, height=40, ops=235929600\n",
      "Layer 3, width=40, height=20, ops=235929600\n",
      "Layer 4, width=20, height=10, ops=117964800\n",
      "Layer 5, width=20, height=10, ops=29491200\n",
      "Layer 6, width=20, height=10, ops=4147200\n",
      "903628800\n"
     ]
    }
   ],
   "source": [
    "layer_config_wv2 = [[3, 32], [32, 64], [64, 128], [128, 256], [256, 256], [256, 64], [64, 36]]\n",
    "pool_layers_wv2 = [1, 1, 1, 1, 0, 0, 0]\n",
    "\n",
    "print(len(layer_config_wv2) == len(pool_layers_wv2))\n",
    "\n",
    "ops1 = calc_ops(layer_config_wv2, pool_layers_wv2)\n",
    "print(ops1)"
   ]
  },
  {
   "cell_type": "code",
   "execution_count": 4,
   "id": "immune-aberdeen",
   "metadata": {},
   "outputs": [
    {
     "name": "stdout",
     "output_type": "stream",
     "text": [
      "True\n",
      "Layer 0, width=320, height=160, ops=44236800\n",
      "Layer 1, width=160, height=80, ops=117964800\n",
      "Layer 2, width=160, height=80, ops=235929600\n",
      "Layer 3, width=80, height=40, ops=117964800\n",
      "Layer 4, width=80, height=40, ops=235929600\n",
      "Layer 5, width=40, height=20, ops=117964800\n",
      "Layer 6, width=20, height=10, ops=29491200\n",
      "Layer 7, width=20, height=10, ops=29491200\n",
      "Layer 8, width=20, height=10, ops=29491200\n",
      "Layer 9, width=20, height=10, ops=14745600\n",
      "Layer 10, width=20, height=10, ops=4147200\n",
      "977356800\n"
     ]
    }
   ],
   "source": [
    "layer_config_d1w2 = [[3, 32], [32, 32], [32, 64], [64, 64], [64, 128], [128, 128], [128, 128], [128, 128], [128, 128], [128, 64], [64, 36]]\n",
    "pool_layers_d1w2 = [1, 0, 1, 0, 1, 1, 0, 0, 0, 0, 0]\n",
    "\n",
    "print(len(layer_config_d1w2) == len(pool_layers_d1w2))\n",
    "\n",
    "ops1 = calc_ops(layer_config_d1w2, pool_layers_d1w2)\n",
    "print(ops1)"
   ]
  },
  {
   "cell_type": "code",
   "execution_count": 10,
   "id": "european-prairie",
   "metadata": {},
   "outputs": [
    {
     "name": "stdout",
     "output_type": "stream",
     "text": [
      "True\n",
      "Layer 0, width=320, height=160, ops=22118400, total_ops=22118400\n",
      "Layer 1, width=160, height=80, ops=29491200, total_ops=51609600\n",
      "Layer 2, width=160, height=80, ops=29491200, total_ops=81100800\n",
      "Layer 3, width=160, height=80, ops=58982400, total_ops=140083200\n",
      "Layer 4, width=80, height=40, ops=29491200, total_ops=169574400\n",
      "Layer 5, width=80, height=40, ops=29491200, total_ops=199065600\n",
      "Layer 6, width=80, height=40, ops=58982400, total_ops=258048000\n",
      "Layer 7, width=40, height=20, ops=29491200, total_ops=287539200\n",
      "Layer 8, width=20, height=10, ops=7372800, total_ops=294912000\n",
      "Layer 9, width=20, height=10, ops=7372800, total_ops=302284800\n",
      "Layer 10, width=20, height=10, ops=7372800, total_ops=309657600\n",
      "Layer 11, width=20, height=10, ops=7372800, total_ops=317030400\n",
      "Layer 12, width=20, height=10, ops=4147200, total_ops=321177600\n",
      "321177600\n"
     ]
    }
   ],
   "source": [
    "layer_config_d2 = [[3, 16], [16, 16], [16, 16], [16, 32], [32, 32], [32, 32], [32, 64], [64, 64], [64, 64], [64, 64], [64, 64], [64, 64], [64, 36]]\n",
    "pool_layers_d2 = [1, 0, 0, 1, 0, 0, 1, 1, 0, 0, 0, 0, 0]\n",
    "\n",
    "print(len(layer_config_d2) == len(pool_layers_d2))\n",
    "ops1 = calc_ops(layer_config_d2, pool_layers_d2)\n",
    "print(ops1)"
   ]
  },
  {
   "cell_type": "code",
   "execution_count": 12,
   "id": "angry-cherry",
   "metadata": {},
   "outputs": [
    {
     "name": "stdout",
     "output_type": "stream",
     "text": [
      "True\n",
      "Layer 0, width=320, height=160, ops=22118400, total_ops=22118400\n",
      "Layer 1, width=160, height=80, ops=29491200, total_ops=51609600\n",
      "Layer 2, width=160, height=80, ops=29491200, total_ops=81100800\n",
      "Layer 3, width=160, height=80, ops=58982400, total_ops=140083200\n",
      "Layer 4, width=80, height=40, ops=29491200, total_ops=169574400\n",
      "Layer 5, width=80, height=40, ops=29491200, total_ops=199065600\n",
      "Layer 6, width=80, height=40, ops=58982400, total_ops=258048000\n",
      "Layer 7, width=40, height=20, ops=29491200, total_ops=287539200\n",
      "Layer 8, width=20, height=10, ops=7372800, total_ops=294912000\n",
      "Layer 9, width=20, height=10, ops=14745600, total_ops=309657600\n",
      "Layer 10, width=20, height=10, ops=29491200, total_ops=339148800\n",
      "Layer 11, width=20, height=10, ops=14745600, total_ops=353894400\n",
      "Layer 12, width=20, height=10, ops=4147200, total_ops=358041600\n",
      "358041600\n"
     ]
    }
   ],
   "source": [
    "layer_config_d2w1 = [[3, 16], [16, 16], [16, 16], [16, 32], [32, 32], [32, 32], [32, 64], [64, 64], [64, 64], [64, 128], [128, 128], [128, 64], [64, 36]]\n",
    "pool_layers_d2w1 = [1, 0, 0, 1, 0, 0, 1, 1, 0, 0, 0, 0, 0]\n",
    "\n",
    "print(len(layer_config_d2w1) == len(pool_layers_d2w1))\n",
    "ops1 = calc_ops(layer_config_d2w1, pool_layers_d2w1)\n",
    "print(ops1)"
   ]
  },
  {
   "cell_type": "code",
   "execution_count": 13,
   "id": "actual-sandwich",
   "metadata": {},
   "outputs": [
    {
     "name": "stdout",
     "output_type": "stream",
     "text": [
      "True\n",
      "Layer 0, width=320, height=160, ops=44236800, total_ops=44236800\n",
      "Layer 1, width=160, height=80, ops=117964800, total_ops=162201600\n",
      "Layer 2, width=160, height=80, ops=235929600, total_ops=398131200\n",
      "Layer 3, width=80, height=40, ops=117964800, total_ops=516096000\n",
      "Layer 4, width=80, height=40, ops=235929600, total_ops=752025600\n",
      "Layer 5, width=40, height=20, ops=117964800, total_ops=869990400\n",
      "Layer 6, width=20, height=10, ops=29491200, total_ops=899481600\n",
      "Layer 7, width=20, height=10, ops=29491200, total_ops=928972800\n",
      "Layer 8, width=20, height=10, ops=29491200, total_ops=958464000\n",
      "Layer 9, width=20, height=10, ops=14745600, total_ops=973209600\n",
      "Layer 10, width=20, height=10, ops=4147200, total_ops=977356800\n",
      "977356800\n"
     ]
    }
   ],
   "source": [
    "layer_config_d2w2 = [[3, 32], [32, 32], [32, 64], [64, 64], [64, 128], [128, 128], [128, 128], [128, 128], [128, 128], [128, 64], [64, 36]]\n",
    "pool_layers_d2w2 = [1, 0, 1, 0, 1, 1, 0, 0, 0, 0, 0]\n",
    "\n",
    "print(len(layer_config_d2w2) == len(pool_layers_d2w2))\n",
    "ops1 = calc_ops(layer_config_d2w2, pool_layers_d2w2)\n",
    "print(ops1)"
   ]
  },
  {
   "cell_type": "code",
   "execution_count": 33,
   "id": "hybrid-yorkshire",
   "metadata": {},
   "outputs": [
    {
     "name": "stdout",
     "output_type": "stream",
     "text": [
      "True\n",
      "Layer 0, width=320, height=160, ops=44236800\n",
      "Layer 1, width=160, height=80, ops=235929600\n",
      "Layer 2, width=80, height=40, ops=235929600\n",
      "Layer 3, width=40, height=20, ops=117964800\n",
      "Layer 4, width=20, height=10, ops=29491200\n",
      "Layer 5, width=20, height=10, ops=14745600\n",
      "Layer 6, width=20, height=10, ops=4147200\n",
      "682444800\n"
     ]
    }
   ],
   "source": [
    "layer_config_wv3 = [[3, 32], [32, 64], [64, 128], [128, 128], [128, 128], [128, 64], [64, 36]]\n",
    "pool_layers_wv3 = [1, 1, 1, 1, 0, 0, 0]\n",
    "\n",
    "print(len(layer_config_wv3) == len(pool_layers_wv3))\n",
    "\n",
    "ops1 = calc_ops(layer_config_wv3, pool_layers_wv3)\n",
    "print(ops1)"
   ]
  },
  {
   "cell_type": "code",
   "execution_count": 34,
   "id": "changing-offense",
   "metadata": {},
   "outputs": [
    {
     "name": "stdout",
     "output_type": "stream",
     "text": [
      "True\n",
      "Layer 0, width=320, height=160, ops=44236800\n",
      "Layer 1, width=160, height=80, ops=235929600\n",
      "Layer 2, width=80, height=40, ops=235929600\n",
      "Layer 3, width=40, height=20, ops=117964800\n",
      "Layer 4, width=20, height=10, ops=14745600\n",
      "Layer 5, width=20, height=10, ops=4147200\n",
      "652953600\n"
     ]
    }
   ],
   "source": [
    "layer_config_wv3sv1 = [[3, 32], [32, 64], [64, 128], [128, 128], [128, 64], [64, 36]]\n",
    "pool_layers_wv3sv1 = [1, 1, 1, 1, 0, 0]\n",
    "\n",
    "print(len(layer_config_wv3sv1) == len(pool_layers_wv3sv1))\n",
    "\n",
    "ops = calc_ops(layer_config_wv3sv1, pool_layers_wv3sv1)\n",
    "print(ops)"
   ]
  },
  {
   "cell_type": "code",
   "execution_count": 36,
   "id": "english-knight",
   "metadata": {},
   "outputs": [
    {
     "name": "stdout",
     "output_type": "stream",
     "text": [
      "True\n",
      "Layer 0, width=320, height=160, ops=44236800\n",
      "Layer 1, width=160, height=80, ops=235929600\n",
      "Layer 2, width=80, height=40, ops=235929600\n",
      "Layer 3, width=40, height=20, ops=235929600\n",
      "Layer 4, width=20, height=10, ops=29491200\n",
      "Layer 5, width=20, height=10, ops=4147200\n",
      "785664000\n"
     ]
    }
   ],
   "source": [
    "layer_config_wv3sv2 = [[3, 32], [32, 64], [64, 128], [128, 256], [256, 64], [64, 36]]\n",
    "pool_layers_wv3sv2 = [1, 1, 1, 1, 0, 0]\n",
    "\n",
    "print(len(layer_config_wv3sv2) == len(pool_layers_wv3sv2))\n",
    "\n",
    "ops = calc_ops(layer_config_wv3sv2, pool_layers_wv3sv2)\n",
    "print(ops)"
   ]
  },
  {
   "cell_type": "code",
   "execution_count": 30,
   "id": "rising-finance",
   "metadata": {},
   "outputs": [
    {
     "name": "stdout",
     "output_type": "stream",
     "text": [
      "True\n",
      "Layer 0, width=320, height=160, ops=22118400\n",
      "Layer 1, width=160, height=80, ops=58982400\n",
      "Layer 2, width=80, height=40, ops=58982400\n",
      "Layer 3, width=40, height=20, ops=58982400\n",
      "Layer 4, width=20, height=10, ops=29491200\n",
      "Layer 5, width=20, height=10, ops=14745600\n",
      "Layer 6, width=20, height=10, ops=4147200\n",
      "247449600\n"
     ]
    }
   ],
   "source": [
    "layer_config_wv4 = [[3, 16], [16, 32], [32, 64], [64, 128], [128, 128], [128, 64], [64, 36]]\n",
    "pool_layers_wv4 = [1, 1, 1, 1, 0, 0, 0]\n",
    "\n",
    "print(len(layer_config_wv4) == len(pool_layers_wv4))\n",
    "\n",
    "ops1 = calc_ops(layer_config_wv4, pool_layers_wv4)\n",
    "print(ops1)"
   ]
  },
  {
   "cell_type": "code",
   "execution_count": 12,
   "id": "closed-sequence",
   "metadata": {},
   "outputs": [
    {
     "name": "stdout",
     "output_type": "stream",
     "text": [
      "Layer 0, width=320, height=160, ops=22118400\n",
      "Layer 1, width=160, height=80, ops=58982400\n",
      "Layer 2, width=80, height=40, ops=58982400\n",
      "Layer 3, width=40, height=20, ops=29491200\n",
      "Layer 4, width=20, height=10, ops=7372800\n",
      "Layer 5, width=20, height=10, ops=7372800\n",
      "Layer 6, width=20, height=10, ops=7372800\n",
      "Layer 7, width=20, height=10, ops=7372800\n",
      "Layer 8, width=20, height=10, ops=4147200\n",
      "203212800\n"
     ]
    }
   ],
   "source": [
    "ops0 = calc_ops(layer_config_v0, pool_layers_v0)\n",
    "print(ops0)"
   ]
  },
  {
   "cell_type": "code",
   "execution_count": 27,
   "id": "solved-camcorder",
   "metadata": {},
   "outputs": [
    {
     "name": "stdout",
     "output_type": "stream",
     "text": [
      "Layer 0, width=320, height=160, ops=22118400\n",
      "Layer 1, width=160, height=80, ops=58982400\n",
      "Layer 2, width=80, height=40, ops=58982400\n",
      "Layer 3, width=40, height=20, ops=29491200\n",
      "Layer 4, width=20, height=10, ops=14745600\n",
      "Layer 5, width=20, height=10, ops=29491200\n",
      "Layer 6, width=20, height=10, ops=29491200\n",
      "Layer 7, width=20, height=10, ops=29491200\n",
      "Layer 8, width=20, height=10, ops=8294400\n",
      "281088000\n"
     ]
    }
   ],
   "source": [
    "ops1 = calc_ops(layer_config_wv1, pool_layers_wv1)\n",
    "print(ops1)"
   ]
  },
  {
   "cell_type": "code",
   "execution_count": null,
   "id": "vanilla-surname",
   "metadata": {},
   "outputs": [],
   "source": [
    "print('additional %.2f percent'%((ops1 - ops0)/ops0*100))"
   ]
  },
  {
   "cell_type": "code",
   "execution_count": null,
   "id": "connected-columbus",
   "metadata": {},
   "outputs": [],
   "source": []
  }
 ],
 "metadata": {
  "kernelspec": {
   "display_name": "Python 3 (ipykernel)",
   "language": "python",
   "name": "python3"
  },
  "language_info": {
   "codemirror_mode": {
    "name": "ipython",
    "version": 3
   },
   "file_extension": ".py",
   "mimetype": "text/x-python",
   "name": "python",
   "nbconvert_exporter": "python",
   "pygments_lexer": "ipython3",
   "version": "3.9.7"
  }
 },
 "nbformat": 4,
 "nbformat_minor": 5
}
