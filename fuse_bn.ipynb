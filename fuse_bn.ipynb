{
 "cells": [
  {
   "cell_type": "code",
   "execution_count": 1,
   "id": "applicable-jenny",
   "metadata": {},
   "outputs": [
    {
     "name": "stdout",
     "output_type": "stream",
     "text": [
      "True\n"
     ]
    }
   ],
   "source": [
    "import torch\n",
    "from collections import OrderedDict\n",
    "import math\n",
    "\n",
    "cuda = torch.cuda.is_available()\n",
    "print(cuda)"
   ]
  },
  {
   "cell_type": "code",
   "execution_count": 2,
   "id": "systematic-threshold",
   "metadata": {},
   "outputs": [],
   "source": [
    "weightfile = 'weights/4w4a_8firstlast/test_best_7044.pt'\n",
    "weightfile_fused = 'weights/4w4a_8firstlast/test_best_7044_fused.pt'\n",
    "device = torch.device('cuda:0' if cuda else 'cpu')\n",
    "chkpt = torch.load(weightfile, device)\n",
    "old_dict = chkpt['model']\n",
    "new_dict = OrderedDict()"
   ]
  },
  {
   "cell_type": "code",
   "execution_count": 3,
   "id": "antique-gauge",
   "metadata": {},
   "outputs": [
    {
     "name": "stdout",
     "output_type": "stream",
     "text": [
      "layers.0.weight\n",
      "layers.1.weight\n",
      "layers.1.bias\n",
      "layers.1.running_mean\n",
      "layers.1.running_var\n",
      "layers.1.num_batches_tracked\n",
      "layers.4.weight\n",
      "layers.5.weight\n",
      "layers.5.bias\n",
      "layers.5.running_mean\n",
      "layers.5.running_var\n",
      "layers.5.num_batches_tracked\n",
      "layers.8.weight\n",
      "layers.9.weight\n",
      "layers.9.bias\n",
      "layers.9.running_mean\n",
      "layers.9.running_var\n",
      "layers.9.num_batches_tracked\n",
      "layers.12.weight\n",
      "layers.13.weight\n",
      "layers.13.bias\n",
      "layers.13.running_mean\n",
      "layers.13.running_var\n",
      "layers.13.num_batches_tracked\n",
      "layers.16.weight\n",
      "layers.17.weight\n",
      "layers.17.bias\n",
      "layers.17.running_mean\n",
      "layers.17.running_var\n",
      "layers.17.num_batches_tracked\n",
      "layers.19.weight\n",
      "layers.20.weight\n",
      "layers.20.bias\n",
      "layers.20.running_mean\n",
      "layers.20.running_var\n",
      "layers.20.num_batches_tracked\n",
      "layers.22.weight\n",
      "layers.23.weight\n",
      "layers.23.bias\n",
      "layers.23.running_mean\n",
      "layers.23.running_var\n",
      "layers.23.num_batches_tracked\n",
      "layers.25.weight\n",
      "layers.26.weight\n",
      "layers.26.bias\n",
      "layers.26.running_mean\n",
      "layers.26.running_var\n",
      "layers.26.num_batches_tracked\n",
      "layers.28.weight\n",
      "layers.28.bias\n"
     ]
    }
   ],
   "source": [
    "for key in list(old_dict.keys()):\n",
    "    print(key)"
   ]
  },
  {
   "cell_type": "code",
   "execution_count": 4,
   "id": "domestic-switzerland",
   "metadata": {},
   "outputs": [
    {
     "name": "stdout",
     "output_type": "stream",
     "text": [
      "conv0.weight\n",
      "conv0.bias\n",
      "conv1.weight\n",
      "conv1.bias\n",
      "conv2.weight\n",
      "conv2.bias\n",
      "conv3.weight\n",
      "conv3.bias\n",
      "conv4.weight\n",
      "conv4.bias\n",
      "conv5.weight\n",
      "conv5.bias\n",
      "conv6.weight\n",
      "conv6.bias\n",
      "conv7.weight\n",
      "conv7.bias\n"
     ]
    }
   ],
   "source": [
    "for i in range(5):\n",
    "    new_i = i\n",
    "    old_i = i*4\n",
    "    new_weight = 'conv%d.weight'%(new_i)\n",
    "    new_bias = 'conv%d.bias'%(new_i)\n",
    "    conv_weight = old_dict['layers.%d.weight'%(old_i)]\n",
    "    conv_bias = torch.zeros(conv_weight.shape[0])\n",
    "    if new_bias in old_dict.keys():\n",
    "        print('Has %s'%(new_bias))\n",
    "        conv_bias = old_dict['layers.%d.weight'%(old_i)]\n",
    "    old_i += 1\n",
    "    bn_weight = old_dict['layers.%d.weight'%(old_i)]\n",
    "    bn_bias = old_dict['layers.%d.bias'%(old_i)]\n",
    "    bn_mean = old_dict['layers.%d.running_mean'%(old_i)]\n",
    "    bn_var = old_dict['layers.%d.running_var'%(old_i)]\n",
    "    for ch in range(bn_weight.shape[0]):\n",
    "        conv_weight[ch] = conv_weight[ch]*bn_weight[ch]/math.sqrt(bn_var[ch] + 0.00001)\n",
    "        conv_bias[ch] = bn_bias[ch] + bn_weight[ch]/math.sqrt(bn_var[ch] + 0.00001)*(conv_bias[ch] - bn_mean[ch])\n",
    "    new_dict[new_weight] = conv_weight\n",
    "    new_dict[new_bias] = conv_bias\n",
    "    print(new_weight)\n",
    "    print(new_bias)\n",
    "    \n",
    "for i in range(3):\n",
    "    new_i = 5 + i\n",
    "    old_i = 19 + i*3\n",
    "    new_weight = 'conv%d.weight'%(new_i)\n",
    "    new_bias = 'conv%d.bias'%(new_i)\n",
    "    conv_weight = old_dict['layers.%d.weight'%(old_i)]\n",
    "    conv_bias = torch.zeros(conv_weight.shape[0])\n",
    "    if new_bias in old_dict.keys():\n",
    "        print('Has %s'%(new_bias))\n",
    "        conv_bias = old_dict['layers.%d.weight'%(old_i)]\n",
    "    old_i += 1\n",
    "    bn_weight = old_dict['layers.%d.weight'%(old_i)]\n",
    "    bn_bias = old_dict['layers.%d.bias'%(old_i)]\n",
    "    bn_mean = old_dict['layers.%d.running_mean'%(old_i)]\n",
    "    bn_var = old_dict['layers.%d.running_var'%(old_i)]\n",
    "    for ch in range(bn_weight.shape[0]):\n",
    "        conv_weight[ch] = conv_weight[ch]*bn_weight[ch]/math.sqrt(bn_var[ch] + 0.00001)\n",
    "        conv_bias[ch] = bn_bias[ch] + bn_weight[ch]/math.sqrt(bn_var[ch] + 0.00001)*(conv_bias[ch] - bn_mean[ch])\n",
    "    new_dict[new_weight] = conv_weight\n",
    "    new_dict[new_bias] = conv_bias\n",
    "    print(new_weight)\n",
    "    print(new_bias)\n",
    "    \n",
    "new_dict['conv8.weight'] = old_dict['layers.28.weight']\n",
    "new_dict['conv8.bias'] = old_dict['layers.28.bias']\n",
    "chkpt['model'] = new_dict\n",
    "torch.save(chkpt, weightfile_fused)"
   ]
  },
  {
   "cell_type": "code",
   "execution_count": null,
   "id": "infrared-cedar",
   "metadata": {},
   "outputs": [],
   "source": []
  }
 ],
 "metadata": {
  "kernelspec": {
   "display_name": "Python 3 (ipykernel)",
   "language": "python",
   "name": "python3"
  },
  "language_info": {
   "codemirror_mode": {
    "name": "ipython",
    "version": 3
   },
   "file_extension": ".py",
   "mimetype": "text/x-python",
   "name": "python",
   "nbconvert_exporter": "python",
   "pygments_lexer": "ipython3",
   "version": "3.9.7"
  }
 },
 "nbformat": 4,
 "nbformat_minor": 5
}
